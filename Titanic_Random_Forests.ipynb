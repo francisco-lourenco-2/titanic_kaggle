{
 "cells": [
  {
   "cell_type": "code",
   "execution_count": 1,
   "id": "c286740c",
   "metadata": {
    "scrolled": true
   },
   "outputs": [
    {
     "name": "stdout",
     "output_type": "stream",
     "text": [
      "Warning: Your Kaggle API key is readable by other users on this system! To fix this, you can run 'chmod 600 /home/francisco/.kaggle/kaggle.json'\n"
     ]
    }
   ],
   "source": [
    "import kaggle\n",
    "import pandas as pd\n",
    "import numpy as np\n",
    "import sklearn as sk\n",
    "from sklearn import tree\n",
    "from sklearn import ensemble\n",
    "from sklearn.inspection import plot_partial_dependence\n",
    "import matplotlib.pyplot as plt"
   ]
  },
  {
   "cell_type": "code",
   "execution_count": 2,
   "id": "291990c3",
   "metadata": {},
   "outputs": [],
   "source": [
    "def name_to_status(df):\n",
    "    title_dict = {\n",
    "    \"Capt\": \"Officer\",\n",
    "    \"Col\": \"Officer\",\n",
    "    \"Major\": \"Officer\",\n",
    "    \"Jonkheer\": \"Royalty\",\n",
    "    \"Don\": \"Royalty\",\n",
    "    \"Dona\": \"Royalty\",\n",
    "    \"Sir\" : \"Royalty\",\n",
    "    \"Dr\": \"Officer\",\n",
    "    \"Rev\": \"Officer\",\n",
    "    \"the Countess\":\"Royalty\",\n",
    "    \"Mme\": \"Mrs\",\n",
    "    \"Mlle\": \"Miss\",\n",
    "    \"Ms\": \"Mrs\",\n",
    "    \"Mr\" : \"Mr\",\n",
    "    \"Mrs\" : \"Mrs\",\n",
    "    \"Miss\" : \"Miss\",\n",
    "    \"Master\" : \"Master\",\n",
    "    \"Lady\" : \"Royalty\"}\n",
    "    \n",
    "    titles = []\n",
    "    for name in df['Name']:\n",
    "        title = name.split(',')[-1].split('.')[0]\n",
    "        titles.append(title[1:])\n",
    "    df['Name'] = titles\n",
    "    \n",
    "    \n",
    "    # a map of more aggregated title\n",
    "    # we map each title\n",
    "    df['Name'] = df.Name.map(title_dict)\n",
    "    df.rename(columns = {'Name':'Status'}, inplace = True)\n",
    "    return df"
   ]
  },
  {
   "cell_type": "code",
   "execution_count": 3,
   "id": "2a2eea6b",
   "metadata": {},
   "outputs": [],
   "source": [
    "def cabin_to_deck(df):\n",
    "    decks = []\n",
    "    for cabin in df['Cabin']:\n",
    "        if pd.notna(cabin): decks.append(cabin[0])\n",
    "        else: decks.append('Basic')\n",
    "    df['Cabin'] = decks\n",
    "    df.rename(columns = {'Cabin':'Deck'}, inplace = True)\n",
    "    return df"
   ]
  },
  {
   "cell_type": "code",
   "execution_count": 369,
   "id": "ebfa0bdd",
   "metadata": {},
   "outputs": [],
   "source": [
    "def add_ticket_type(df):\n",
    "    ticket_types = []\n",
    "    for ticket in df['Ticket']:\n",
    "        if pd.notna(ticket): \n",
    "            ticket_split = ticket.split(' ')\n",
    "            if len(ticket_split) > 1:\n",
    "                ticket_type = ticket_split[0]\n",
    "                ticket_type = ticket_type.replace('.','')\n",
    "                ticket_type = ticket_type.replace('/','')\n",
    "                ticket_type = ticket_type.upper()\n",
    "                ticket_types.append(ticket_type)\n",
    "            else: ticket_types.append('BASIC')\n",
    "        else: ticket_types.append(ticket)\n",
    "    df['TicketType'] = ticket_types\n",
    "    return df"
   ]
  },
  {
   "cell_type": "code",
   "execution_count": 420,
   "id": "951c58fd",
   "metadata": {},
   "outputs": [],
   "source": [
    "def add_ticket_number(df):\n",
    "    ticket_numbers = []\n",
    "    for ticket in df['Ticket']:\n",
    "        if ticket == 'LINE': ticket_numbers.append(0)\n",
    "        elif pd.notna(ticket):\n",
    "            ticket_split = ticket.split(' ')\n",
    "            ticket_numbers.append(int(ticket_split[-1]))\n",
    "        else: ticket_numbers.append(ticket)\n",
    "    df['TicketNumber'] = ticket_numbers\n",
    "    return df"
   ]
  },
  {
   "cell_type": "code",
   "execution_count": 421,
   "id": "488df21f",
   "metadata": {},
   "outputs": [],
   "source": [
    "def add_age_estimated(df):\n",
    "    age_estimated = []\n",
    "    for i in range(len(df)):\n",
    "        if df['Age'].values[i] != df['Age'].values[i]:\n",
    "            age_estimated.append(0)\n",
    "        elif df['Age'].values[i] != int(df['Age'].values[i]) and df['Age'].values[i] > 1:\n",
    "            age_estimated.append(1)\n",
    "        else: \n",
    "            age_estimated.append(0)\n",
    "    df['AgeEstimated'] = age_estimated\n",
    "    return df"
   ]
  },
  {
   "cell_type": "code",
   "execution_count": 422,
   "id": "8b82360c",
   "metadata": {},
   "outputs": [],
   "source": [
    "def add_fam_size(df):\n",
    "    fam_size  = []\n",
    "    for i in range(len(df)):\n",
    "        fam_size.append(df['SibSp'][i]+df['Parch'][i])\n",
    "    df['FamSize'] = fam_size\n",
    "    return df"
   ]
  },
  {
   "cell_type": "code",
   "execution_count": 423,
   "id": "b6e0aa73",
   "metadata": {},
   "outputs": [],
   "source": [
    "def add_fare_per_person(df):\n",
    "    fare_per_person = []\n",
    "    for i in range(len(df)):\n",
    "        fare_per_person.append(df['Fare'][i]/(df['FamSize'][i]+1))\n",
    "    df['FarePerPerson'] = fare_per_person\n",
    "    return df"
   ]
  },
  {
   "cell_type": "code",
   "execution_count": 424,
   "id": "0f7b49d0",
   "metadata": {},
   "outputs": [],
   "source": [
    "def add_age_times_class(df):\n",
    "    age_times_class = []\n",
    "    for i in range(len(df)):\n",
    "        age_times_class.append(df['Pclass'][i]*df['Age'][i])\n",
    "    df['AgeClass'] = age_times_class\n",
    "    return df"
   ]
  },
  {
   "cell_type": "code",
   "execution_count": 425,
   "id": "ac7627a7",
   "metadata": {},
   "outputs": [],
   "source": [
    "def fill_ages(df, train_index):\n",
    "    ages = []\n",
    "    grouped_train = df.iloc[:train_index].groupby(['Sex','Pclass','Status'])\n",
    "    grouped_median_train = grouped_train.median()\n",
    "    grouped_median_train = grouped_median_train.reset_index()[['Sex', 'Pclass', 'Status', 'Age']]\n",
    "    for i, row in df.iterrows():\n",
    "        if row['Age'] != row['Age']: \n",
    "            condition = (\n",
    "                (grouped_median_train['Sex'] == row['Sex']) & \n",
    "                (grouped_median_train['Status'] == row['Status']) & \n",
    "                (grouped_median_train['Pclass'] == row['Pclass'])\n",
    "            ) \n",
    "            ages.append(grouped_median_train[condition]['Age'].values[0])\n",
    "        else: ages.append(row['Age'])\n",
    "    df['Age'] = ages\n",
    "    return df"
   ]
  },
  {
   "cell_type": "code",
   "execution_count": 426,
   "id": "456a7c55",
   "metadata": {},
   "outputs": [],
   "source": [
    "def categorify(df, columns):\n",
    "    rectifier = 1\n",
    "    for column in columns:\n",
    "        category_dict = {}\n",
    "        unique_categories = df[column].unique()\n",
    "        unknown_index = (unique_categories != unique_categories).nonzero()[0]\n",
    "        unique_categories = unique_categories.tolist()\n",
    "\n",
    "        if len(unknown_index): \n",
    "            category_indexes = list(range(len(unique_categories)))\n",
    "            unknown = unique_categories[unknown_index[0]]\n",
    "            category_indexes[0] = unknown\n",
    "            unique_categories.pop(unknown_index[0])\n",
    "            unique_categories.insert(0,unknown)\n",
    "\n",
    "        else:\n",
    "            category_indexes = list(range(1,len(unique_categories)+1))\n",
    "\n",
    "        for i in range(len(unique_categories)):\n",
    "            category_dict[unique_categories[i]] = category_indexes[i]\n",
    "\n",
    "        new_column = []\n",
    "        for i in range(len(df)):\n",
    "            new_value = category_dict[df[column][i]]\n",
    "            if new_value == new_value: new_value = int(new_value)\n",
    "            new_column.append(new_value)\n",
    "\n",
    "        df[column] = new_column\n",
    "#         df[column] = new_column.astype('category')\n",
    "    return df"
   ]
  },
  {
   "cell_type": "code",
   "execution_count": 427,
   "id": "369d9415",
   "metadata": {},
   "outputs": [],
   "source": [
    "def fill_missing(df, ignore_columns):\n",
    "    for column in df.columns:\n",
    "        if column in ignore_columns: continue\n",
    "        elif df[column].isna().any():\n",
    "            median = df[column].describe()['50%']\n",
    "            nan_indexes = df[column].isna().values\n",
    "            new_column = np.array(df[column])\n",
    "            new_column[nan_indexes] = median\n",
    "#             new_column = new_column.astype('int')\n",
    "            df[column] = new_column\n",
    "            df[f'{column}Missing'] = nan_indexes \n",
    "    return df"
   ]
  },
  {
   "cell_type": "code",
   "execution_count": 428,
   "id": "a82be6d3",
   "metadata": {},
   "outputs": [],
   "source": [
    "def integerize(df, columns):\n",
    "    for column in columns:\n",
    "        df = df.astype({column: 'int'})\n",
    "    return df"
   ]
  },
  {
   "cell_type": "code",
   "execution_count": 429,
   "id": "af089160",
   "metadata": {},
   "outputs": [],
   "source": [
    "def metric(predictions, targets):\n",
    "    return 100*(len((predictions == targets).nonzero()[0]) / len(predictions))"
   ]
  },
  {
   "cell_type": "code",
   "execution_count": 430,
   "id": "60e55e5e",
   "metadata": {},
   "outputs": [],
   "source": [
    "def rf_feat_importance(m, df):\n",
    "    return pd.DataFrame({'cols':df.columns, 'imp':m.feature_importances_}\n",
    "    ).sort_values('imp', ascending=False)"
   ]
  },
  {
   "cell_type": "code",
   "execution_count": 431,
   "id": "6def5d95",
   "metadata": {},
   "outputs": [],
   "source": [
    "path = '/home/francisco/workspace/titanic_kaggle/titanic'"
   ]
  },
  {
   "cell_type": "code",
   "execution_count": 432,
   "id": "9db16aee",
   "metadata": {},
   "outputs": [],
   "source": [
    "original_train_df = pd.read_csv(f'{path}/train.csv',low_memory=False)\n",
    "original_test_df = pd.read_csv(f'{path}/test.csv',low_memory=False)"
   ]
  },
  {
   "cell_type": "code",
   "execution_count": 433,
   "id": "c4686fee",
   "metadata": {},
   "outputs": [],
   "source": [
    "targets = original_train_df.Survived #Extract targets\n",
    "complete_df = pd.concat([original_train_df, original_test_df], ignore_index=True)\n",
    "complete_df.drop(['Survived'], inplace=True, axis=1)"
   ]
  },
  {
   "cell_type": "code",
   "execution_count": 434,
   "id": "9e7e1b1c",
   "metadata": {},
   "outputs": [],
   "source": [
    "# complete_df.describe()\n",
    "# complete_df.count()"
   ]
  },
  {
   "cell_type": "code",
   "execution_count": 435,
   "id": "1dcf350d",
   "metadata": {},
   "outputs": [
    {
     "name": "stderr",
     "output_type": "stream",
     "text": [
      "/tmp/ipykernel_19387/4108268414.py:4: SettingWithCopyWarning: \n",
      "A value is trying to be set on a copy of a slice from a DataFrame\n",
      "\n",
      "See the caveats in the documentation: https://pandas.pydata.org/pandas-docs/stable/user_guide/indexing.html#returning-a-view-versus-a-copy\n",
      "  complete_df['AgeMissing'][(complete_df['Age'] != complete_df['Age'])] = 1\n"
     ]
    }
   ],
   "source": [
    "complete_df = name_to_status(complete_df)\n",
    "# complete_df = add_age_estimated(complete_df)\n",
    "complete_df['AgeMissing'] = np.zeros(len(complete_df),'int')\n",
    "complete_df['AgeMissing'][(complete_df['Age'] != complete_df['Age'])] = 1\n",
    "complete_df = fill_ages(complete_df, 891)\n",
    "complete_df = cabin_to_deck(complete_df)\n",
    "complete_df = add_ticket_type(complete_df)\n",
    "complete_df = add_ticket_number(complete_df)\n",
    "complete_df = complete_df.drop(['Ticket'], axis=1)\n",
    "complete_df = add_fam_size(complete_df)\n",
    "complete_df['Fare'] = complete_df['Fare'].fillna(complete_df['Fare'].median())\n",
    "complete_df = add_fare_per_person(complete_df)\n",
    "# complete_df = add_age_times_class(complete_df)\n",
    "complete_df['Embarked'] = complete_df['Embarked'].fillna('S')"
   ]
  },
  {
   "cell_type": "code",
   "execution_count": 436,
   "id": "5c9b231f",
   "metadata": {},
   "outputs": [],
   "source": [
    "# complete_df.count()"
   ]
  },
  {
   "cell_type": "code",
   "execution_count": 437,
   "id": "d3504662",
   "metadata": {},
   "outputs": [],
   "source": [
    "# complete_df = complete_df.drop(['Fare'], axis=1)"
   ]
  },
  {
   "cell_type": "code",
   "execution_count": 438,
   "id": "aa311649",
   "metadata": {},
   "outputs": [],
   "source": [
    "# cont = ['Age', 'FarePerPerson']\n",
    "# cat = ['Survived', 'Pclass', 'Title', 'Sex', 'SibSp', 'Parch', 'TicketType', 'Deck', 'Embarked', 'AgeEstimated', 'FamSize', 'AgeClassMissing','AgeMissing', 'FarePerPersonMissing','DeckMissing', 'EmbarkedMissing']"
   ]
  },
  {
   "cell_type": "code",
   "execution_count": 439,
   "id": "e79f50f3",
   "metadata": {},
   "outputs": [],
   "source": [
    "complete_df = categorify(complete_df,['Status', 'Sex', 'Deck', 'Embarked', 'TicketType'])\n",
    "# complete_df = fill_missing(complete_df, ['Survived'])"
   ]
  },
  {
   "cell_type": "code",
   "execution_count": 440,
   "id": "6d559e72",
   "metadata": {},
   "outputs": [],
   "source": [
    "train_df = complete_df.iloc[:712]\n",
    "valid_df = complete_df.iloc[712:891].reset_index()\n",
    "test_df = complete_df.iloc[891:].reset_index()"
   ]
  },
  {
   "cell_type": "code",
   "execution_count": 441,
   "id": "e68475ad",
   "metadata": {},
   "outputs": [],
   "source": [
    "# train_df = integerize(train_df, cat)\n",
    "# valid_df = integerize(valid_df, cat)\n",
    "# test_df = integerize(test_df, cat[1:])"
   ]
  },
  {
   "cell_type": "code",
   "execution_count": 442,
   "id": "7737a8fc",
   "metadata": {},
   "outputs": [],
   "source": [
    "# train_df = train_df.drop(['AgeMissing','Parch', 'TicketType'], axis = 1)\n",
    "# valid_df = valid_df.drop(['AgeMissing','Parch', 'TicketType'], axis = 1)\n",
    "# test_df = test_df.drop(['AgeMissing','Parch', 'TicketType'], axis = 1)"
   ]
  },
  {
   "cell_type": "code",
   "execution_count": 443,
   "id": "8df7af51",
   "metadata": {},
   "outputs": [],
   "source": [
    "parameters = {'bootstrap': False, 'min_samples_leaf': 3, 'n_estimators': 10000, \n",
    "              'min_samples_split': 10, 'max_features': 'sqrt', 'max_depth': 6}"
   ]
  },
  {
   "cell_type": "code",
   "execution_count": 444,
   "id": "e714438b",
   "metadata": {},
   "outputs": [],
   "source": [
    "rf = ensemble.RandomForestClassifier(**parameters)\n",
    "# rf = ensemble.RandomForestClassifier(n_estimators=10000)"
   ]
  },
  {
   "cell_type": "code",
   "execution_count": 445,
   "id": "21fd93e8",
   "metadata": {},
   "outputs": [
    {
     "data": {
      "text/plain": [
       "84.91620111731844"
      ]
     },
     "execution_count": 445,
     "metadata": {},
     "output_type": "execute_result"
    }
   ],
   "source": [
    "rf.fit(train_df.values,targets[:712])\n",
    "preds_rf = rf.predict(valid_df.values[:,1:])\n",
    "metric(preds_rf.astype('int'), targets.values[712:891])"
   ]
  },
  {
   "cell_type": "code",
   "execution_count": 362,
   "id": "7271657d",
   "metadata": {},
   "outputs": [
    {
     "data": {
      "text/html": [
       "<div>\n",
       "<style scoped>\n",
       "    .dataframe tbody tr th:only-of-type {\n",
       "        vertical-align: middle;\n",
       "    }\n",
       "\n",
       "    .dataframe tbody tr th {\n",
       "        vertical-align: top;\n",
       "    }\n",
       "\n",
       "    .dataframe thead th {\n",
       "        text-align: right;\n",
       "    }\n",
       "</style>\n",
       "<table border=\"1\" class=\"dataframe\">\n",
       "  <thead>\n",
       "    <tr style=\"text-align: right;\">\n",
       "      <th></th>\n",
       "      <th>cols</th>\n",
       "      <th>imp</th>\n",
       "    </tr>\n",
       "  </thead>\n",
       "  <tbody>\n",
       "    <tr>\n",
       "      <th>2</th>\n",
       "      <td>Status</td>\n",
       "      <td>0.267377</td>\n",
       "    </tr>\n",
       "    <tr>\n",
       "      <th>3</th>\n",
       "      <td>Sex</td>\n",
       "      <td>0.240136</td>\n",
       "    </tr>\n",
       "    <tr>\n",
       "      <th>13</th>\n",
       "      <td>FarePerPerson</td>\n",
       "      <td>0.085456</td>\n",
       "    </tr>\n",
       "    <tr>\n",
       "      <th>8</th>\n",
       "      <td>Fare</td>\n",
       "      <td>0.081733</td>\n",
       "    </tr>\n",
       "    <tr>\n",
       "      <th>1</th>\n",
       "      <td>Pclass</td>\n",
       "      <td>0.074134</td>\n",
       "    </tr>\n",
       "    <tr>\n",
       "      <th>4</th>\n",
       "      <td>Age</td>\n",
       "      <td>0.057891</td>\n",
       "    </tr>\n",
       "    <tr>\n",
       "      <th>9</th>\n",
       "      <td>Deck</td>\n",
       "      <td>0.048879</td>\n",
       "    </tr>\n",
       "    <tr>\n",
       "      <th>12</th>\n",
       "      <td>FamSize</td>\n",
       "      <td>0.047476</td>\n",
       "    </tr>\n",
       "    <tr>\n",
       "      <th>0</th>\n",
       "      <td>PassengerId</td>\n",
       "      <td>0.034352</td>\n",
       "    </tr>\n",
       "    <tr>\n",
       "      <th>5</th>\n",
       "      <td>SibSp</td>\n",
       "      <td>0.023071</td>\n",
       "    </tr>\n",
       "    <tr>\n",
       "      <th>10</th>\n",
       "      <td>Embarked</td>\n",
       "      <td>0.014283</td>\n",
       "    </tr>\n",
       "    <tr>\n",
       "      <th>7</th>\n",
       "      <td>TicketType</td>\n",
       "      <td>0.013671</td>\n",
       "    </tr>\n",
       "    <tr>\n",
       "      <th>6</th>\n",
       "      <td>Parch</td>\n",
       "      <td>0.008331</td>\n",
       "    </tr>\n",
       "    <tr>\n",
       "      <th>11</th>\n",
       "      <td>AgeMissing</td>\n",
       "      <td>0.003211</td>\n",
       "    </tr>\n",
       "  </tbody>\n",
       "</table>\n",
       "</div>"
      ],
      "text/plain": [
       "             cols       imp\n",
       "2          Status  0.267377\n",
       "3             Sex  0.240136\n",
       "13  FarePerPerson  0.085456\n",
       "8            Fare  0.081733\n",
       "1          Pclass  0.074134\n",
       "4             Age  0.057891\n",
       "9            Deck  0.048879\n",
       "12        FamSize  0.047476\n",
       "0     PassengerId  0.034352\n",
       "5           SibSp  0.023071\n",
       "10       Embarked  0.014283\n",
       "7      TicketType  0.013671\n",
       "6           Parch  0.008331\n",
       "11     AgeMissing  0.003211"
      ]
     },
     "execution_count": 362,
     "metadata": {},
     "output_type": "execute_result"
    }
   ],
   "source": [
    "rf_feat_importance(rf,valid_df.iloc[:,1:])\n",
    "# rf_feat_importance(rf,train_df.drop(['Survived'], axis=1))"
   ]
  },
  {
   "cell_type": "code",
   "execution_count": 157,
   "id": "4966516b",
   "metadata": {},
   "outputs": [],
   "source": [
    "# valid_df['Sex'].hist()"
   ]
  },
  {
   "cell_type": "code",
   "execution_count": 156,
   "id": "db2ce948",
   "metadata": {},
   "outputs": [
    {
     "name": "stderr",
     "output_type": "stream",
     "text": [
      "/home/francisco/.local/lib/python3.9/site-packages/sklearn/utils/deprecation.py:87: FutureWarning: Function plot_partial_dependence is deprecated; Function `plot_partial_dependence` is deprecated in 1.0 and will be removed in 1.2. Use PartialDependenceDisplay.from_estimator instead\n",
      "  warnings.warn(msg, category=FutureWarning)\n",
      "/home/francisco/.local/lib/python3.9/site-packages/sklearn/base.py:443: UserWarning: X has feature names, but RandomForestClassifier was fitted without feature names\n",
      "  warnings.warn(\n",
      "/home/francisco/.local/lib/python3.9/site-packages/sklearn/base.py:443: UserWarning: X has feature names, but RandomForestClassifier was fitted without feature names\n",
      "  warnings.warn(\n",
      "/home/francisco/.local/lib/python3.9/site-packages/sklearn/base.py:443: UserWarning: X has feature names, but RandomForestClassifier was fitted without feature names\n",
      "  warnings.warn(\n",
      "/home/francisco/.local/lib/python3.9/site-packages/sklearn/base.py:443: UserWarning: X has feature names, but RandomForestClassifier was fitted without feature names\n",
      "  warnings.warn(\n"
     ]
    },
    {
     "data": {
      "image/png": "[encoded data removed]",
      "text/plain": [
       "<Figure size 864x288 with 3 Axes>"
      ]
     },
     "metadata": {
      "needs_background": "light"
     },
     "output_type": "display_data"
    }
   ],
   "source": [
    "fig,ax = plt.subplots(figsize=(12, 4))\n",
    "plot_partial_dependence(rf, valid_df.iloc[:,1:], ['AgeEstimated','AgeMissing'],\n",
    "grid_resolution=20, ax=ax);"
   ]
  },
  {
   "cell_type": "code",
   "execution_count": null,
   "id": "c97885a4",
   "metadata": {},
   "outputs": [],
   "source": [
    "85.47"
   ]
  },
  {
   "cell_type": "markdown",
   "id": "2b598ae6",
   "metadata": {},
   "source": [
    "***"
   ]
  },
  {
   "cell_type": "code",
   "execution_count": 187,
   "id": "a1357786",
   "metadata": {},
   "outputs": [],
   "source": [
    "# preds_df = pd.DataFrame()\n",
    "preds_rf_test = rf.predict(test_df.values[:,1:])\n",
    "preds_rf_df = pd.DataFrame()\n",
    "\n",
    "# preds_df['PassengerId'] = test_df['PassengerId'].values\n",
    "# preds_df['Survived'] = preds_clf.astype('int')\n",
    "preds_rf_df['PassengerId'] = test_df['PassengerId'].values\n",
    "preds_rf_df['Survived'] = preds_rf_test.astype('int')"
   ]
  },
  {
   "cell_type": "code",
   "execution_count": 188,
   "id": "e0887725",
   "metadata": {},
   "outputs": [],
   "source": [
    "preds_rf_df.to_csv(f'{path}/submission_rf.csv',index=False)"
   ]
  },
  {
   "cell_type": "markdown",
   "id": "ac33dd47",
   "metadata": {},
   "source": [
    "***"
   ]
  },
  {
   "cell_type": "code",
   "execution_count": 54,
   "id": "5bafae7f",
   "metadata": {},
   "outputs": [],
   "source": [
    "preds_train = rf.predict(train_df.values[:,2:])"
   ]
  },
  {
   "cell_type": "code",
   "execution_count": 55,
   "id": "242b53fc",
   "metadata": {},
   "outputs": [],
   "source": [
    "gt = train_df['Survived'].values"
   ]
  },
  {
   "cell_type": "code",
   "execution_count": 56,
   "id": "e49a588d",
   "metadata": {},
   "outputs": [
    {
     "data": {
      "text/plain": [
       "0.9876543209876543"
      ]
     },
     "execution_count": 56,
     "metadata": {},
     "output_type": "execute_result"
    }
   ],
   "source": [
    "np.count_nonzero(preds_train == gt)/len(gt)"
   ]
  }
 ],
 "metadata": {
  "kernelspec": {
   "display_name": "Python 3 (ipykernel)",
   "language": "python",
   "name": "python3"
  },
  "language_info": {
   "codemirror_mode": {
    "name": "ipython",
    "version": 3
   },
   "file_extension": ".py",
   "mimetype": "text/x-python",
   "name": "python",
   "nbconvert_exporter": "python",
   "pygments_lexer": "ipython3",
   "version": "3.9.13"
  }
 },
 "nbformat": 4,
 "nbformat_minor": 5
}
