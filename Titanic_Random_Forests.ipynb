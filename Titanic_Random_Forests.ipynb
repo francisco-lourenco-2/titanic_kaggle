{
 "cells": [
  {
   "cell_type": "code",
   "execution_count": 68,
   "id": "c286740c",
   "metadata": {
    "scrolled": true
   },
   "outputs": [],
   "source": [
    "import kaggle\n",
    "import pandas as pd\n",
    "import numpy as np\n",
    "import sklearn as sk\n",
    "from sklearn import tree\n",
    "from sklearn import ensemble\n",
    "from sklearn.inspection import plot_partial_dependence\n",
    "import matplotlib.pyplot as plt"
   ]
  },
  {
   "cell_type": "code",
   "execution_count": 69,
   "id": "34dcc612",
   "metadata": {},
   "outputs": [],
   "source": [
    "def feature_engineer(df):\n",
    "    titles = []\n",
    "    for name in df['Name']:\n",
    "        title = name.split(',')[-1].split('.')[0]\n",
    "        titles.append(title[1:])\n",
    "    df['Name'] = titles\n",
    "    df.rename(columns = {'Name':'Title'}, inplace = True)\n",
    "\n",
    "    decks = []\n",
    "    for cabin in df['Cabin']:\n",
    "        if pd.notna(cabin): decks.append(cabin[0])\n",
    "        else: decks.append(cabin)\n",
    "    df['Cabin'] = decks\n",
    "    df.rename(columns = {'Cabin':'Deck'}, inplace = True)\n",
    "    \n",
    "    ticket_types = []\n",
    "    for ticket in df['Ticket']:\n",
    "        if pd.notna(ticket): \n",
    "            ticket_split = ticket.split(' ')\n",
    "            if len(ticket_split) > 1:\n",
    "                ticket_types.append(ticket_split[0])\n",
    "            else: ticket_types.append('basic')\n",
    "        else: ticket_types.append(ticket)\n",
    "    df['Ticket'] = ticket_types\n",
    "    df.rename(columns = {'Ticket':'TicketType'}, inplace = True)\n",
    "    \n",
    "    age_estimated = []\n",
    "    for i in range(len(df)):\n",
    "        if df['Age'].values[i] != df['Age'].values[i]:\n",
    "            age_estimated.append(0)\n",
    "        elif df['Age'].values[i] != int(df['Age'].values[i]) and df['Age'].values[i] > 1:\n",
    "            age_estimated.append(1)\n",
    "        else: \n",
    "            age_estimated.append(0)\n",
    "    df['AgeEstimated'] = age_estimated\n",
    "    \n",
    "    fam_size  = []\n",
    "    for i in range(len(df)):\n",
    "        fam_size.append(df['SibSp'][i]+df['Parch'][i])\n",
    "    df['FamSize'] = fam_size\n",
    "\n",
    "    fare_per_person = []\n",
    "    for i in range(len(df)):\n",
    "        fare_per_person.append(df['Fare'][i]/(df['FamSize'][i]+1))\n",
    "    df['FarePerPerson'] = fare_per_person\n",
    "    \n",
    "    age_times_class = []\n",
    "    for i in range(len(df)):\n",
    "        age_times_class.append(df['Pclass'][i]*df['Age'][i])\n",
    "    df['AgeClass'] = age_times_class\n",
    "    \n",
    "#     famsize_times_sex = []\n",
    "#     for i in range(len(df)):\n",
    "#         famsize_times_sex.append(df['FamSize'][i] * 2 if df['Sex'][i] in ['male'] else df['FamSize'][i])\n",
    "#     df['FamSex'] = famsize_times_sex\n",
    "    \n",
    "    return df"
   ]
  },
  {
   "cell_type": "code",
   "execution_count": 70,
   "id": "456a7c55",
   "metadata": {},
   "outputs": [],
   "source": [
    "def categorify(df, columns):\n",
    "    rectifier = 1\n",
    "    for column in columns:\n",
    "        category_dict = {}\n",
    "        unique_categories = df[column].unique()\n",
    "        unknown_index = (unique_categories != unique_categories).nonzero()[0]\n",
    "        unique_categories = unique_categories.tolist()\n",
    "\n",
    "        if len(unknown_index): \n",
    "            category_indexes = list(range(len(unique_categories)))\n",
    "            unknown = unique_categories[unknown_index[0]]\n",
    "            category_indexes[0] = unknown\n",
    "            unique_categories.pop(unknown_index[0])\n",
    "            unique_categories.insert(0,unknown)\n",
    "\n",
    "        else:\n",
    "            category_indexes = list(range(1,len(unique_categories)+1))\n",
    "\n",
    "        for i in range(len(unique_categories)):\n",
    "            category_dict[unique_categories[i]] = category_indexes[i]\n",
    "\n",
    "        new_column = []\n",
    "        for i in range(len(df)):\n",
    "            new_value = category_dict[df[column][i]]\n",
    "            if new_value == new_value: new_value = int(new_value)\n",
    "            new_column.append(new_value)\n",
    "\n",
    "        df[column] = new_column\n",
    "#         df[column] = new_column.astype('category')\n",
    "    return df"
   ]
  },
  {
   "cell_type": "code",
   "execution_count": 71,
   "id": "369d9415",
   "metadata": {},
   "outputs": [],
   "source": [
    "def fill_missing(df, ignore_columns):\n",
    "    for column in df.columns:\n",
    "        if column in ignore_columns: continue\n",
    "        elif df[column].isna().any():\n",
    "            median = df[column].describe()['50%']\n",
    "            nan_indexes = df[column].isna().values\n",
    "            new_column = np.array(df[column])\n",
    "            new_column[nan_indexes] = median\n",
    "#             new_column = new_column.astype('int')\n",
    "            df[column] = new_column\n",
    "            df[f'{column}Missing'] = nan_indexes \n",
    "    return df"
   ]
  },
  {
   "cell_type": "code",
   "execution_count": 72,
   "id": "a82be6d3",
   "metadata": {},
   "outputs": [],
   "source": [
    "def integerize(df, columns):\n",
    "    for column in columns:\n",
    "        df = df.astype({column: 'int'})\n",
    "    return df"
   ]
  },
  {
   "cell_type": "code",
   "execution_count": 73,
   "id": "af089160",
   "metadata": {},
   "outputs": [],
   "source": [
    "def metric(predictions, targets):\n",
    "    return 100*(len((predictions == targets).nonzero()[0]) / len(predictions))"
   ]
  },
  {
   "cell_type": "code",
   "execution_count": 74,
   "id": "60e55e5e",
   "metadata": {},
   "outputs": [],
   "source": [
    "def rf_feat_importance(m, df):\n",
    "    return pd.DataFrame({'cols':df.columns, 'imp':m.feature_importances_}\n",
    "    ).sort_values('imp', ascending=False)"
   ]
  },
  {
   "cell_type": "code",
   "execution_count": 75,
   "id": "6def5d95",
   "metadata": {},
   "outputs": [],
   "source": [
    "path = '/home/francisco/workspace/titanic_kaggle/titanic'"
   ]
  },
  {
   "cell_type": "code",
   "execution_count": 76,
   "id": "9db16aee",
   "metadata": {},
   "outputs": [],
   "source": [
    "original_train_df = pd.read_csv(f'{path}/train.csv',low_memory=False)\n",
    "original_test_df = pd.read_csv(f'{path}/test.csv',low_memory=False)"
   ]
  },
  {
   "cell_type": "code",
   "execution_count": 77,
   "id": "016311f2",
   "metadata": {},
   "outputs": [],
   "source": [
    "complete_df = pd.concat([original_train_df, original_test_df], ignore_index=True)"
   ]
  },
  {
   "cell_type": "code",
   "execution_count": 78,
   "id": "46de7893",
   "metadata": {},
   "outputs": [],
   "source": [
    "complete_df = feature_engineer(complete_df)"
   ]
  },
  {
   "cell_type": "code",
   "execution_count": 79,
   "id": "d3504662",
   "metadata": {},
   "outputs": [],
   "source": [
    "complete_df = complete_df.drop(['Fare'], axis=1)"
   ]
  },
  {
   "cell_type": "code",
   "execution_count": 80,
   "id": "aa311649",
   "metadata": {},
   "outputs": [],
   "source": [
    "cont = ['Age', 'FarePerPerson']\n",
    "cat = ['Survived', 'Pclass', 'Title', 'Sex', 'SibSp', 'Parch', 'TicketType', 'Deck', 'Embarked', 'AgeEstimated', 'FamSize', 'AgeClassMissing','AgeMissing', 'FarePerPersonMissing','DeckMissing', 'EmbarkedMissing']"
   ]
  },
  {
   "cell_type": "code",
   "execution_count": 81,
   "id": "e79f50f3",
   "metadata": {},
   "outputs": [],
   "source": [
    "complete_df = categorify(complete_df,['Title', 'Sex', 'Deck', 'Embarked', 'TicketType', 'AgeEstimated'])\n",
    "complete_df = fill_missing(complete_df, ['Survived'])"
   ]
  },
  {
   "cell_type": "code",
   "execution_count": 82,
   "id": "6d559e72",
   "metadata": {},
   "outputs": [],
   "source": [
    "train_df = complete_df.iloc[:712]\n",
    "valid_df = complete_df.iloc[712:891].reset_index()\n",
    "test_df = complete_df.iloc[891:].reset_index()"
   ]
  },
  {
   "cell_type": "code",
   "execution_count": 83,
   "id": "e68475ad",
   "metadata": {},
   "outputs": [],
   "source": [
    "train_df = integerize(train_df, cat)\n",
    "valid_df = integerize(valid_df, cat)\n",
    "test_df = integerize(test_df, cat[1:])"
   ]
  },
  {
   "cell_type": "code",
   "execution_count": 198,
   "id": "ffe45599",
   "metadata": {},
   "outputs": [],
   "source": [
    "# train_men_df = train_df[train_df['Sex'] == 2].drop(['Sex'], axis=1)\n",
    "# valid_men_df = valid_df[valid_df['Sex'] == 2].drop(['Sex'], axis=1)\n",
    "# train_women_df = train_df[train_df['Sex'] == 1].drop(['Sex'], axis=1)\n",
    "# valid_women_df = valid_df[valid_df['Sex'] == 1].drop(['Sex'], axis=1)"
   ]
  },
  {
   "cell_type": "code",
   "execution_count": 88,
   "id": "f2d828fe",
   "metadata": {},
   "outputs": [],
   "source": [
    "parameters = {'bootstrap': False, 'min_samples_leaf': 3, 'n_estimators': 50, \n",
    "              'min_samples_split': 10, 'max_features': 'sqrt', 'max_depth': 6}\n",
    "\n",
    "model = ensemble.RandomForestClassifier(**parameters)\n",
    "# rf = ensemble.RandomForestClassifier(n_estimators=10000)"
   ]
  },
  {
   "cell_type": "code",
   "execution_count": 89,
   "id": "df7264ba",
   "metadata": {},
   "outputs": [],
   "source": [
    "# #Fit man\n",
    "# rf.fit(train_men_df.values[:,2:],train_men_df.values[:,1])\n",
    "# preds_rf = rf.predict(valid_men_df.values[:,3:])\n",
    "# metric(preds_rf.astype('int'), valid_men_df['Survived'].values)"
   ]
  },
  {
   "cell_type": "code",
   "execution_count": 90,
   "id": "617929cb",
   "metadata": {},
   "outputs": [],
   "source": [
    "# #Fit women\n",
    "# rf.fit(train_women_df.values[:,2:],train_women_df.values[:,1])\n",
    "# preds_rf = rf.predict(valid_women_df.values[:,3:])\n",
    "# metric(preds_rf.astype('int'), valid_women_df['Survived'].values)"
   ]
  },
  {
   "cell_type": "code",
   "execution_count": 91,
   "id": "b458cc0a",
   "metadata": {},
   "outputs": [
    {
     "data": {
      "text/plain": [
       "86.59217877094973"
      ]
     },
     "execution_count": 91,
     "metadata": {},
     "output_type": "execute_result"
    }
   ],
   "source": [
    "#Fit all data\n",
    "rf.fit(train_df.values[:,2:],train_df.values[:,1])\n",
    "preds_rf = rf.predict(valid_df.values[:,3:])\n",
    "metric(preds_rf.astype('int'), valid_df['Survived'].values)"
   ]
  },
  {
   "cell_type": "code",
   "execution_count": 123,
   "id": "59bc22fb",
   "metadata": {},
   "outputs": [],
   "source": [
    "# original_train_df"
   ]
  },
  {
   "cell_type": "code",
   "execution_count": 92,
   "id": "7271657d",
   "metadata": {},
   "outputs": [
    {
     "data": {
      "text/html": [
       "<div>\n",
       "<style scoped>\n",
       "    .dataframe tbody tr th:only-of-type {\n",
       "        vertical-align: middle;\n",
       "    }\n",
       "\n",
       "    .dataframe tbody tr th {\n",
       "        vertical-align: top;\n",
       "    }\n",
       "\n",
       "    .dataframe thead th {\n",
       "        text-align: right;\n",
       "    }\n",
       "</style>\n",
       "<table border=\"1\" class=\"dataframe\">\n",
       "  <thead>\n",
       "    <tr style=\"text-align: right;\">\n",
       "      <th></th>\n",
       "      <th>cols</th>\n",
       "      <th>imp</th>\n",
       "    </tr>\n",
       "  </thead>\n",
       "  <tbody>\n",
       "    <tr>\n",
       "      <th>1</th>\n",
       "      <td>Title</td>\n",
       "      <td>0.272295</td>\n",
       "    </tr>\n",
       "    <tr>\n",
       "      <th>2</th>\n",
       "      <td>Sex</td>\n",
       "      <td>0.255016</td>\n",
       "    </tr>\n",
       "    <tr>\n",
       "      <th>12</th>\n",
       "      <td>AgeClass</td>\n",
       "      <td>0.100526</td>\n",
       "    </tr>\n",
       "    <tr>\n",
       "      <th>11</th>\n",
       "      <td>FarePerPerson</td>\n",
       "      <td>0.092760</td>\n",
       "    </tr>\n",
       "    <tr>\n",
       "      <th>0</th>\n",
       "      <td>Pclass</td>\n",
       "      <td>0.074184</td>\n",
       "    </tr>\n",
       "    <tr>\n",
       "      <th>10</th>\n",
       "      <td>FamSize</td>\n",
       "      <td>0.050748</td>\n",
       "    </tr>\n",
       "    <tr>\n",
       "      <th>3</th>\n",
       "      <td>Age</td>\n",
       "      <td>0.040440</td>\n",
       "    </tr>\n",
       "    <tr>\n",
       "      <th>14</th>\n",
       "      <td>DeckMissing</td>\n",
       "      <td>0.034843</td>\n",
       "    </tr>\n",
       "    <tr>\n",
       "      <th>4</th>\n",
       "      <td>SibSp</td>\n",
       "      <td>0.027801</td>\n",
       "    </tr>\n",
       "    <tr>\n",
       "      <th>7</th>\n",
       "      <td>Deck</td>\n",
       "      <td>0.015006</td>\n",
       "    </tr>\n",
       "    <tr>\n",
       "      <th>8</th>\n",
       "      <td>Embarked</td>\n",
       "      <td>0.013025</td>\n",
       "    </tr>\n",
       "    <tr>\n",
       "      <th>6</th>\n",
       "      <td>TicketType</td>\n",
       "      <td>0.010992</td>\n",
       "    </tr>\n",
       "    <tr>\n",
       "      <th>5</th>\n",
       "      <td>Parch</td>\n",
       "      <td>0.006983</td>\n",
       "    </tr>\n",
       "    <tr>\n",
       "      <th>13</th>\n",
       "      <td>AgeMissing</td>\n",
       "      <td>0.002434</td>\n",
       "    </tr>\n",
       "    <tr>\n",
       "      <th>17</th>\n",
       "      <td>AgeClassMissing</td>\n",
       "      <td>0.002317</td>\n",
       "    </tr>\n",
       "    <tr>\n",
       "      <th>9</th>\n",
       "      <td>AgeEstimated</td>\n",
       "      <td>0.000630</td>\n",
       "    </tr>\n",
       "    <tr>\n",
       "      <th>15</th>\n",
       "      <td>EmbarkedMissing</td>\n",
       "      <td>0.000000</td>\n",
       "    </tr>\n",
       "    <tr>\n",
       "      <th>16</th>\n",
       "      <td>FarePerPersonMissing</td>\n",
       "      <td>0.000000</td>\n",
       "    </tr>\n",
       "  </tbody>\n",
       "</table>\n",
       "</div>"
      ],
      "text/plain": [
       "                    cols       imp\n",
       "1                  Title  0.272295\n",
       "2                    Sex  0.255016\n",
       "12              AgeClass  0.100526\n",
       "11         FarePerPerson  0.092760\n",
       "0                 Pclass  0.074184\n",
       "10               FamSize  0.050748\n",
       "3                    Age  0.040440\n",
       "14           DeckMissing  0.034843\n",
       "4                  SibSp  0.027801\n",
       "7                   Deck  0.015006\n",
       "8               Embarked  0.013025\n",
       "6             TicketType  0.010992\n",
       "5                  Parch  0.006983\n",
       "13            AgeMissing  0.002434\n",
       "17       AgeClassMissing  0.002317\n",
       "9           AgeEstimated  0.000630\n",
       "15       EmbarkedMissing  0.000000\n",
       "16  FarePerPersonMissing  0.000000"
      ]
     },
     "execution_count": 92,
     "metadata": {},
     "output_type": "execute_result"
    }
   ],
   "source": [
    "rf_feat_importance(rf,valid_df.iloc[:,3:])\n",
    "# rf_feat_importance(rf,train_df.drop(['Survived'], axis=1))"
   ]
  },
  {
   "cell_type": "code",
   "execution_count": 77,
   "id": "28229ded",
   "metadata": {},
   "outputs": [
    {
     "data": {
      "text/plain": [
       "<AxesSubplot:>"
      ]
     },
     "execution_count": 77,
     "metadata": {},
     "output_type": "execute_result"
    },
    {
     "data": {
      "image/png": "[encoded data removed]",
      "text/plain": [
       "<Figure size 432x288 with 1 Axes>"
      ]
     },
     "metadata": {
      "needs_background": "light"
     },
     "output_type": "display_data"
    }
   ],
   "source": [
    "valid_df['Sex'].hist()"
   ]
  },
  {
   "cell_type": "code",
   "execution_count": 79,
   "id": "34522beb",
   "metadata": {},
   "outputs": [
    {
     "name": "stderr",
     "output_type": "stream",
     "text": [
      "/home/francisco/.local/lib/python3.9/site-packages/sklearn/utils/deprecation.py:87: FutureWarning: Function plot_partial_dependence is deprecated; Function `plot_partial_dependence` is deprecated in 1.0 and will be removed in 1.2. Use PartialDependenceDisplay.from_estimator instead\n",
      "  warnings.warn(msg, category=FutureWarning)\n",
      "/home/francisco/.local/lib/python3.9/site-packages/sklearn/base.py:443: UserWarning: X has feature names, but RandomForestClassifier was fitted without feature names\n",
      "  warnings.warn(\n",
      "/home/francisco/.local/lib/python3.9/site-packages/sklearn/base.py:443: UserWarning: X has feature names, but RandomForestClassifier was fitted without feature names\n",
      "  warnings.warn(\n",
      "/home/francisco/.local/lib/python3.9/site-packages/sklearn/base.py:443: UserWarning: X has feature names, but RandomForestClassifier was fitted without feature names\n",
      "  warnings.warn(\n",
      "/home/francisco/.local/lib/python3.9/site-packages/sklearn/base.py:443: UserWarning: X has feature names, but RandomForestClassifier was fitted without feature names\n",
      "  warnings.warn(\n",
      "/home/francisco/.local/lib/python3.9/site-packages/sklearn/base.py:443: UserWarning: X has feature names, but RandomForestClassifier was fitted without feature names\n",
      "  warnings.warn(\n",
      "/home/francisco/.local/lib/python3.9/site-packages/sklearn/base.py:443: UserWarning: X has feature names, but RandomForestClassifier was fitted without feature names\n",
      "  warnings.warn(\n",
      "/home/francisco/.local/lib/python3.9/site-packages/sklearn/base.py:443: UserWarning: X has feature names, but RandomForestClassifier was fitted without feature names\n",
      "  warnings.warn(\n",
      "/home/francisco/.local/lib/python3.9/site-packages/sklearn/base.py:443: UserWarning: X has feature names, but RandomForestClassifier was fitted without feature names\n",
      "  warnings.warn(\n",
      "/home/francisco/.local/lib/python3.9/site-packages/sklearn/base.py:443: UserWarning: X has feature names, but RandomForestClassifier was fitted without feature names\n",
      "  warnings.warn(\n",
      "/home/francisco/.local/lib/python3.9/site-packages/sklearn/base.py:443: UserWarning: X has feature names, but RandomForestClassifier was fitted without feature names\n",
      "  warnings.warn(\n"
     ]
    },
    {
     "data": {
      "image/png": "[encoded data removed]",
      "text/plain": [
       "<Figure size 864x288 with 3 Axes>"
      ]
     },
     "metadata": {
      "needs_background": "light"
     },
     "output_type": "display_data"
    }
   ],
   "source": [
    "fig,ax = plt.subplots(figsize=(12, 4))\n",
    "plot_partial_dependence(rf, valid_df.iloc[:,3:], ['FamSize','Sex'],\n",
    "grid_resolution=20, ax=ax);"
   ]
  },
  {
   "cell_type": "code",
   "execution_count": null,
   "id": "c97885a4",
   "metadata": {},
   "outputs": [],
   "source": [
    "85.47"
   ]
  },
  {
   "cell_type": "markdown",
   "id": "2b598ae6",
   "metadata": {},
   "source": [
    "***"
   ]
  },
  {
   "cell_type": "code",
   "execution_count": 148,
   "id": "a1357786",
   "metadata": {},
   "outputs": [],
   "source": [
    "# preds_df = pd.DataFrame()\n",
    "preds_rf_test = rf.predict(test_df.values[:,3:])\n",
    "preds_rf_df = pd.DataFrame()\n",
    "\n",
    "# preds_df['PassengerId'] = test_df['PassengerId'].values\n",
    "# preds_df['Survived'] = preds_clf.astype('int')\n",
    "preds_rf_df['PassengerId'] = test_df['PassengerId'].values\n",
    "preds_rf_df['Survived'] = preds_rf_test.astype('int')"
   ]
  },
  {
   "cell_type": "code",
   "execution_count": 150,
   "id": "e0887725",
   "metadata": {},
   "outputs": [],
   "source": [
    "preds_rf_df.to_csv(f'{path}/submission_rf.csv',index=False)"
   ]
  },
  {
   "cell_type": "markdown",
   "id": "ac33dd47",
   "metadata": {},
   "source": [
    "***"
   ]
  },
  {
   "cell_type": "code",
   "execution_count": 54,
   "id": "5bafae7f",
   "metadata": {},
   "outputs": [],
   "source": [
    "preds_train = rf.predict(train_df.values[:,2:])"
   ]
  },
  {
   "cell_type": "code",
   "execution_count": 55,
   "id": "242b53fc",
   "metadata": {},
   "outputs": [],
   "source": [
    "gt = train_df['Survived'].values"
   ]
  },
  {
   "cell_type": "code",
   "execution_count": 56,
   "id": "e49a588d",
   "metadata": {},
   "outputs": [
    {
     "data": {
      "text/plain": [
       "0.9876543209876543"
      ]
     },
     "execution_count": 56,
     "metadata": {},
     "output_type": "execute_result"
    }
   ],
   "source": [
    "np.count_nonzero(preds_train == gt)/len(gt)"
   ]
  }
 ],
 "metadata": {
  "kernelspec": {
   "display_name": "Python 3 (ipykernel)",
   "language": "python",
   "name": "python3"
  },
  "language_info": {
   "codemirror_mode": {
    "name": "ipython",
    "version": 3
   },
   "file_extension": ".py",
   "mimetype": "text/x-python",
   "name": "python",
   "nbconvert_exporter": "python",
   "pygments_lexer": "ipython3",
   "version": "3.9.13"
  }
 },
 "nbformat": 4,
 "nbformat_minor": 5
}
